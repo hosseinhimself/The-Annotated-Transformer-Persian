{
  "cells": [
    {
      "cell_type": "markdown",
      "metadata": {
        "id": "eESNzJx76oZU"
      },
      "source": [
        "<div class=\"custom-font\" dir=\"rtl\">\n",
        "    <div style=\"text-align: center;\">\n",
        "        <strong><h1>شرحی بر ترانسفورمرها</h1></strong>\n",
        "        <h2>توجه تنها چیزیه که بهش نیاز دارید.</h2>\n",
        "        <h4>ترجمه: <a href=\"https://www.linkedin.com/in/mohsenihossein/\">حسین محسنی</a></h4>\n",
        "    </div>\n",
        "</div>\n",
        "\n",
        "<div class=\"custom-font\" dir=\"rtl\">\n",
        "    <p>سلام! یه روز که تصمیم گرفتم این مقاله رو بخونم به ذهنم رسید که چرا که نه! همزمان با خوندن مقاله و پیاده سازیش، روی ترجمه‌ش هم کار بکنم. راستی من خود کد ها و کامنت هاش رو هم ترجمه نکردم. به نظرم خیلی منطقی نبود.</p>\n",
        "</div>\n",
        "\n",
        "<div class=\"custom-font\" dir=\"rtl\">\n",
        "    <p>این صفحه Jupyter Notebook ترجمه‌ای بر مشروح مقاله ترانسفورمر‌ها (Attention is All You Need) هستش.\n",
        "    در این مشروح برخی بخش‌های مقاله اصلی مرتب و برخی حذف شده‌اند. در برخی قسمت‌ها هم توضیحاتی اضافه شده‌اند. همچنین برای درک بهتر مقاله پیاده‌سازی کدها در پایتون نیز درج شده است.</p>\n",
        "    <p>لینک منبع: <a href=\"https://nlp.seas.harvard.edu/annotated-transformer/\">https://nlp.seas.harvard.edu/annotated-transformer/</a></p>\n",
        "    <p>لینک مقاله اصلی: <a href=\"https://arxiv.org/abs/1706.03762\">https://arxiv.org/abs/1706.03762</a></p>\n",
        "</div>\n",
        "\n",
        "<div class=\"custom-font\" dir=\"rtl\">\n",
        "    <p>راستی اگه می بینید جایی نیاز به بهبود داره خوشحال می‌شم Pull Request هاتون رو دریافت کنم :)</p>\n",
        "</div>\n",
        "\n",
        "<style>\n",
        "@font-face {\n",
        "    font-family: 'Estedad';\n",
        "    src: url('https://github.com/aminabedi68/Estedad/raw/master/fonts/webfonts/statics/Estedad-Medium.woff2') format('woff2');\n",
        "    font-weight: normal;\n",
        "    font-style: normal;\n",
        "}\n",
        "\n",
        ".custom-font {\n",
        "    font-family: 'Estedad', sans-serif;\n",
        "    font-size: 15px;\n",
        "    line-height: 1.6;\n",
        "}\n",
        "\n",
        "h1, h2, h4 {\n",
        "    margin: 0;\n",
        "    padding: 0;\n",
        "}\n",
        "\n",
        "p {\n",
        "    text-align: justify;\n",
        "    margin-bottom: 15px;\n",
        "}\n",
        "</style>\n"
      ]
    },
    {
      "cell_type": "markdown",
      "metadata": {},
      "source": [
        "<div class=\"custom-font\" dir=\"rtl\">\n",
        "    <h2>مقدمات کار</h2>\n",
        "</div>\n",
        "\n",
        "<style>\n",
        "@font-face {\n",
        "    font-family: 'Estedad';\n",
        "    src: url('https://github.com/aminabedi68/Estedad/raw/master/fonts/webfonts/statics/Estedad-Medium.woff2') format('woff2');\n",
        "    font-weight: normal;\n",
        "    font-style: normal;\n",
        "}\n",
        "\n",
        ".custom-font {\n",
        "    font-family: 'Estedad', sans-serif;\n",
        "    font-size: 15px;\n",
        "    line-height: 1.6;\n",
        "}\n",
        "\n",
        "h1, h2, h4 {\n",
        "    margin: 0;\n",
        "    padding: 0;\n",
        "}\n",
        "\n",
        "p {\n",
        "    text-align: justify;\n",
        "    margin-bottom: 15px;\n",
        "}\n",
        "</style>\n"
      ]
    },
    {
      "cell_type": "code",
      "execution_count": 2,
      "metadata": {
        "id": "NhTZ81Xp0XJJ"
      },
      "outputs": [],
      "source": [
        "# # Uncomment for colab\n",
        "# #\n",
        "!pip install -q torchdata torchtext spacy altair GPUtil\n",
        "!python -m spacy download de_core_news_sm\n",
        "!python -m spacy download en_core_web_sm"
      ]
    },
    {
      "cell_type": "code",
      "execution_count": null,
      "metadata": {},
      "outputs": [],
      "source": [
        "import os\n",
        "from os.path import exists\n",
        "import torch\n",
        "import torch.nn as nn\n",
        "from torch.nn.functional import log_softmax, pad\n",
        "import math\n",
        "import copy\n",
        "import time\n",
        "from torch.optim.lr_scheduler import LambdaLR\n",
        "import pandas as pd\n",
        "import altair as alt\n",
        "from torchtext.data.functional import to_map_style_dataset\n",
        "from torch.utils.data import DataLoader\n",
        "from torchtext.vocab import build_vocab_from_iterator\n",
        "import torchtext.datasets as datasets\n",
        "import spacy\n",
        "import GPUtil\n",
        "import warnings\n",
        "from torch.utils.data.distributed import DistributedSampler\n",
        "import torch.distributed as dist\n",
        "import torch.multiprocessing as mp\n",
        "from torch.nn.parallel import DistributedDataParallel as DDP\n",
        "\n",
        "\n",
        "# Set to False to skip notebook execution (e.g. for debugging)\n",
        "warnings.filterwarnings(\"ignore\")\n",
        "RUN_EXAMPLES = True"
      ]
    }
  ],
  "metadata": {
    "colab": {
      "authorship_tag": "ABX9TyO90RlgntvVVJbBYlSY71OR",
      "include_colab_link": true,
      "provenance": []
    },
    "kernelspec": {
      "display_name": "Python 3",
      "name": "python3"
    },
    "language_info": {
      "codemirror_mode": {
        "name": "ipython",
        "version": 3
      },
      "file_extension": ".py",
      "mimetype": "text/x-python",
      "name": "python",
      "nbconvert_exporter": "python",
      "pygments_lexer": "ipython3",
      "version": "3.12.2"
    }
  },
  "nbformat": 4,
  "nbformat_minor": 0
}
