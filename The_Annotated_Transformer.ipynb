{
  "nbformat": 4,
  "nbformat_minor": 0,
  "metadata": {
    "colab": {
      "provenance": [],
      "authorship_tag": "ABX9TyO90RlgntvVVJbBYlSY71OR",
      "include_colab_link": true
    },
    "kernelspec": {
      "name": "python3",
      "display_name": "Python 3"
    },
    "language_info": {
      "name": "python"
    }
  },
  "cells": [
    {
      "cell_type": "markdown",
      "metadata": {
        "id": "view-in-github",
        "colab_type": "text"
      },
      "source": [
        "<a href=\"https://colab.research.google.com/github/hosseinhimself/The-Annotated-Transformer-Persian/blob/main/The_Annotated_Transformer.ipynb\" target=\"_parent\"><img src=\"https://colab.research.google.com/assets/colab-badge.svg\" alt=\"Open In Colab\"/></a>"
      ]
    },
    {
      "cell_type": "markdown",
      "source": [
        "<div class=\"custom-font\" dir=\"rtl\">\n",
        "<div style=\"text-align: center;\">\n",
        "    <h1 >ترانسفورمر مشروح</h1>\n",
        "    <h2>تمام چیزی که نیاز دارید توجه است</h2>\n",
        "    <p>ترانسفورمر در پنج سال گذشته ذهن‌های بسیاری را به خود مشغول کرده است. این پست نسخه‌ای مشروح از مقاله را به شکل پیاده‌سازی خط به خط ارائه می‌کند. در این نسخه، برخی از بخش‌های مقاله اصلی مرتب شده و برخی حذف شده‌اند و در سراسر متن توضیحاتی اضافه شده است. این سند خود یک دفترچه یادداشت کاری است و باید یک پیاده‌سازی کاملاً قابل استفاده باشد. کد <a href=\"#\">اینجا</a> در دسترس است.</p>\n",
        "    </div>\n",
        "</div>\n",
        "\n",
        "\n",
        "<style>\n",
        "@font-face {\n",
        "    font-family: 'Estedad';\n",
        "    src: url('https://github.com/aminabedi68/Estedad/raw/master/fonts/webfonts/statics/Estedad-Medium.woff2') format('woff2');\n",
        "    font-weight: normal;\n",
        "    font-style: normal;\n",
        "}\n",
        "\n",
        ".custom-font {\n",
        "    font-family: 'Estedad', sans-serif;\n",
        "    font-size: 20px;\n",
        "}\n",
        "</style>\n",
        "\n"
      ],
      "metadata": {
        "id": "eESNzJx76oZU"
      }
    },
    {
      "cell_type": "markdown",
      "source": [
        "\n",
        "<h3 dir=\"rtl\" style=\"text-align: center;\"><span style=\"color:gray;\">حاشیه نویسی بر مقاله ترنسورمرها</span></h3>"
      ],
      "metadata": {
        "id": "XLiyYfJB5M9H"
      }
    },
    {
      "cell_type": "code",
      "execution_count": null,
      "metadata": {
        "id": "NhTZ81Xp0XJJ"
      },
      "outputs": [],
      "source": []
    }
  ]
}